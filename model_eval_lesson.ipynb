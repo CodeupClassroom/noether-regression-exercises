{
 "cells": [
  {
   "cell_type": "markdown",
   "id": "3f5449de",
   "metadata": {},
   "source": [
    "# Regression model evaluation\n",
    "\n",
    "### RMSE and R^2, your new best friends"
   ]
  },
  {
   "cell_type": "code",
   "execution_count": 1,
   "id": "70e19717",
   "metadata": {},
   "outputs": [],
   "source": [
    "import pandas as pd\n",
    "import numpy as np\n",
    "import matplotlib.pyplot as plt\n",
    "from math import sqrt\n",
    "from sklearn.linear_model import LinearRegression\n",
    "from sklearn.metrics import mean_squared_error, r2_score, explained_variance_score\n",
    "\n",
    "from regprepare import get_auto_mpg, train_val_test\n",
    "\n",
    "import warnings\n",
    "warnings.filterwarnings(\"ignore\")"
   ]
  },
  {
   "cell_type": "code",
   "execution_count": 2,
   "id": "8aedae40",
   "metadata": {},
   "outputs": [
    {
     "data": {
      "text/html": [
       "<div>\n",
       "<style scoped>\n",
       "    .dataframe tbody tr th:only-of-type {\n",
       "        vertical-align: middle;\n",
       "    }\n",
       "\n",
       "    .dataframe tbody tr th {\n",
       "        vertical-align: top;\n",
       "    }\n",
       "\n",
       "    .dataframe thead th {\n",
       "        text-align: right;\n",
       "    }\n",
       "</style>\n",
       "<table border=\"1\" class=\"dataframe\">\n",
       "  <thead>\n",
       "    <tr style=\"text-align: right;\">\n",
       "      <th></th>\n",
       "      <th>mpg</th>\n",
       "      <th>cylinders</th>\n",
       "      <th>displ</th>\n",
       "      <th>horsepower</th>\n",
       "      <th>weight</th>\n",
       "      <th>acc</th>\n",
       "      <th>model_year</th>\n",
       "      <th>origin</th>\n",
       "      <th>name</th>\n",
       "    </tr>\n",
       "  </thead>\n",
       "  <tbody>\n",
       "    <tr>\n",
       "      <th>0</th>\n",
       "      <td>18.0</td>\n",
       "      <td>8</td>\n",
       "      <td>307.0</td>\n",
       "      <td>130.0</td>\n",
       "      <td>3504.0</td>\n",
       "      <td>12.0</td>\n",
       "      <td>70</td>\n",
       "      <td>1</td>\n",
       "      <td>\"chevrolet chevelle malibu\"</td>\n",
       "    </tr>\n",
       "    <tr>\n",
       "      <th>1</th>\n",
       "      <td>15.0</td>\n",
       "      <td>8</td>\n",
       "      <td>350.0</td>\n",
       "      <td>165.0</td>\n",
       "      <td>3693.0</td>\n",
       "      <td>11.5</td>\n",
       "      <td>70</td>\n",
       "      <td>1</td>\n",
       "      <td>\"buick skylark 320\"</td>\n",
       "    </tr>\n",
       "    <tr>\n",
       "      <th>2</th>\n",
       "      <td>18.0</td>\n",
       "      <td>8</td>\n",
       "      <td>318.0</td>\n",
       "      <td>150.0</td>\n",
       "      <td>3436.0</td>\n",
       "      <td>11.0</td>\n",
       "      <td>70</td>\n",
       "      <td>1</td>\n",
       "      <td>\"plymouth satellite\"</td>\n",
       "    </tr>\n",
       "    <tr>\n",
       "      <th>3</th>\n",
       "      <td>16.0</td>\n",
       "      <td>8</td>\n",
       "      <td>304.0</td>\n",
       "      <td>150.0</td>\n",
       "      <td>3433.0</td>\n",
       "      <td>12.0</td>\n",
       "      <td>70</td>\n",
       "      <td>1</td>\n",
       "      <td>\"amc rebel sst\"</td>\n",
       "    </tr>\n",
       "    <tr>\n",
       "      <th>4</th>\n",
       "      <td>17.0</td>\n",
       "      <td>8</td>\n",
       "      <td>302.0</td>\n",
       "      <td>140.0</td>\n",
       "      <td>3449.0</td>\n",
       "      <td>10.5</td>\n",
       "      <td>70</td>\n",
       "      <td>1</td>\n",
       "      <td>\"ford torino\"</td>\n",
       "    </tr>\n",
       "  </tbody>\n",
       "</table>\n",
       "</div>"
      ],
      "text/plain": [
       "    mpg  cylinders  displ  horsepower  weight   acc  model_year  origin  \\\n",
       "0  18.0          8  307.0       130.0  3504.0  12.0          70       1   \n",
       "1  15.0          8  350.0       165.0  3693.0  11.5          70       1   \n",
       "2  18.0          8  318.0       150.0  3436.0  11.0          70       1   \n",
       "3  16.0          8  304.0       150.0  3433.0  12.0          70       1   \n",
       "4  17.0          8  302.0       140.0  3449.0  10.5          70       1   \n",
       "\n",
       "                          name  \n",
       "0  \"chevrolet chevelle malibu\"  \n",
       "1          \"buick skylark 320\"  \n",
       "2         \"plymouth satellite\"  \n",
       "3              \"amc rebel sst\"  \n",
       "4                \"ford torino\"  "
      ]
     },
     "execution_count": 2,
     "metadata": {},
     "output_type": "execute_result"
    }
   ],
   "source": [
    "df = get_auto_mpg()\n",
    "df.head()"
   ]
  },
  {
   "cell_type": "code",
   "execution_count": 3,
   "id": "b102af1f",
   "metadata": {},
   "outputs": [
    {
     "data": {
      "text/plain": [
       "((235, 9), (78, 9), (79, 9))"
      ]
     },
     "execution_count": 3,
     "metadata": {},
     "output_type": "execute_result"
    }
   ],
   "source": [
    "train, val, test = train_val_test(df, stratify='mpg')\n",
    "train.shape, val.shape, test.shape"
   ]
  },
  {
   "cell_type": "markdown",
   "id": "8e414095",
   "metadata": {},
   "source": [
    "### Establish baseline and model predictions\n",
    "\n",
    "The baseline is the mean of the actual values.\n",
    "\n",
    "A basic LinearRegression model will be used to make predictions."
   ]
  },
  {
   "cell_type": "code",
   "execution_count": 4,
   "id": "ff17d5a7",
   "metadata": {},
   "outputs": [],
   "source": [
    "baseline = round(train['mpg'].mean(), 2)"
   ]
  },
  {
   "cell_type": "code",
   "execution_count": 5,
   "id": "a18091f2",
   "metadata": {},
   "outputs": [],
   "source": [
    "preds = train[['horsepower', 'mpg']]"
   ]
  },
  {
   "cell_type": "code",
   "execution_count": 6,
   "id": "04d66d16",
   "metadata": {},
   "outputs": [
    {
     "data": {
      "text/html": [
       "<div>\n",
       "<style scoped>\n",
       "    .dataframe tbody tr th:only-of-type {\n",
       "        vertical-align: middle;\n",
       "    }\n",
       "\n",
       "    .dataframe tbody tr th {\n",
       "        vertical-align: top;\n",
       "    }\n",
       "\n",
       "    .dataframe thead th {\n",
       "        text-align: right;\n",
       "    }\n",
       "</style>\n",
       "<table border=\"1\" class=\"dataframe\">\n",
       "  <thead>\n",
       "    <tr style=\"text-align: right;\">\n",
       "      <th></th>\n",
       "      <th>horsepower</th>\n",
       "      <th>mpg</th>\n",
       "      <th>baseline_preds</th>\n",
       "    </tr>\n",
       "  </thead>\n",
       "  <tbody>\n",
       "    <tr>\n",
       "      <th>212</th>\n",
       "      <td>180.0</td>\n",
       "      <td>16.5</td>\n",
       "      <td>23.5</td>\n",
       "    </tr>\n",
       "    <tr>\n",
       "      <th>346</th>\n",
       "      <td>67.0</td>\n",
       "      <td>32.3</td>\n",
       "      <td>23.5</td>\n",
       "    </tr>\n",
       "    <tr>\n",
       "      <th>325</th>\n",
       "      <td>48.0</td>\n",
       "      <td>44.3</td>\n",
       "      <td>23.5</td>\n",
       "    </tr>\n",
       "    <tr>\n",
       "      <th>90</th>\n",
       "      <td>198.0</td>\n",
       "      <td>12.0</td>\n",
       "      <td>23.5</td>\n",
       "    </tr>\n",
       "    <tr>\n",
       "      <th>246</th>\n",
       "      <td>52.0</td>\n",
       "      <td>32.8</td>\n",
       "      <td>23.5</td>\n",
       "    </tr>\n",
       "  </tbody>\n",
       "</table>\n",
       "</div>"
      ],
      "text/plain": [
       "     horsepower   mpg  baseline_preds\n",
       "212       180.0  16.5            23.5\n",
       "346        67.0  32.3            23.5\n",
       "325        48.0  44.3            23.5\n",
       "90        198.0  12.0            23.5\n",
       "246        52.0  32.8            23.5"
      ]
     },
     "execution_count": 6,
     "metadata": {},
     "output_type": "execute_result"
    }
   ],
   "source": [
    "preds['baseline_preds'] = baseline\n",
    "preds.head()"
   ]
  },
  {
   "cell_type": "code",
   "execution_count": 7,
   "id": "b689fae8",
   "metadata": {},
   "outputs": [
    {
     "data": {
      "text/plain": [
       "LinearRegression()"
      ]
     },
     "execution_count": 7,
     "metadata": {},
     "output_type": "execute_result"
    }
   ],
   "source": [
    "ols_model = LinearRegression()\n",
    "\n",
    "ols_model.fit(train[['horsepower']], train[['mpg']])"
   ]
  },
  {
   "cell_type": "code",
   "execution_count": 8,
   "id": "19eebf24",
   "metadata": {},
   "outputs": [
    {
     "data": {
      "text/html": [
       "<div>\n",
       "<style scoped>\n",
       "    .dataframe tbody tr th:only-of-type {\n",
       "        vertical-align: middle;\n",
       "    }\n",
       "\n",
       "    .dataframe tbody tr th {\n",
       "        vertical-align: top;\n",
       "    }\n",
       "\n",
       "    .dataframe thead th {\n",
       "        text-align: right;\n",
       "    }\n",
       "</style>\n",
       "<table border=\"1\" class=\"dataframe\">\n",
       "  <thead>\n",
       "    <tr style=\"text-align: right;\">\n",
       "      <th></th>\n",
       "      <th>horsepower</th>\n",
       "      <th>mpg</th>\n",
       "      <th>baseline_preds</th>\n",
       "      <th>yhat</th>\n",
       "    </tr>\n",
       "  </thead>\n",
       "  <tbody>\n",
       "    <tr>\n",
       "      <th>212</th>\n",
       "      <td>180.0</td>\n",
       "      <td>16.5</td>\n",
       "      <td>23.5</td>\n",
       "      <td>11.058302</td>\n",
       "    </tr>\n",
       "    <tr>\n",
       "      <th>346</th>\n",
       "      <td>67.0</td>\n",
       "      <td>32.3</td>\n",
       "      <td>23.5</td>\n",
       "      <td>30.114463</td>\n",
       "    </tr>\n",
       "    <tr>\n",
       "      <th>325</th>\n",
       "      <td>48.0</td>\n",
       "      <td>44.3</td>\n",
       "      <td>23.5</td>\n",
       "      <td>33.318596</td>\n",
       "    </tr>\n",
       "    <tr>\n",
       "      <th>90</th>\n",
       "      <td>198.0</td>\n",
       "      <td>12.0</td>\n",
       "      <td>23.5</td>\n",
       "      <td>8.022807</td>\n",
       "    </tr>\n",
       "    <tr>\n",
       "      <th>246</th>\n",
       "      <td>52.0</td>\n",
       "      <td>32.8</td>\n",
       "      <td>23.5</td>\n",
       "      <td>32.644042</td>\n",
       "    </tr>\n",
       "  </tbody>\n",
       "</table>\n",
       "</div>"
      ],
      "text/plain": [
       "     horsepower   mpg  baseline_preds       yhat\n",
       "212       180.0  16.5            23.5  11.058302\n",
       "346        67.0  32.3            23.5  30.114463\n",
       "325        48.0  44.3            23.5  33.318596\n",
       "90        198.0  12.0            23.5   8.022807\n",
       "246        52.0  32.8            23.5  32.644042"
      ]
     },
     "execution_count": 8,
     "metadata": {},
     "output_type": "execute_result"
    }
   ],
   "source": [
    "preds['yhat'] = ols_model.predict(train[['horsepower']])\n",
    "preds.head()"
   ]
  },
  {
   "cell_type": "markdown",
   "id": "cb7737c1",
   "metadata": {},
   "source": [
    "### Compute residuals\n",
    "\n",
    "Predictions minus actual"
   ]
  },
  {
   "cell_type": "code",
   "execution_count": 9,
   "id": "21cc0a24",
   "metadata": {},
   "outputs": [
    {
     "data": {
      "text/html": [
       "<div>\n",
       "<style scoped>\n",
       "    .dataframe tbody tr th:only-of-type {\n",
       "        vertical-align: middle;\n",
       "    }\n",
       "\n",
       "    .dataframe tbody tr th {\n",
       "        vertical-align: top;\n",
       "    }\n",
       "\n",
       "    .dataframe thead th {\n",
       "        text-align: right;\n",
       "    }\n",
       "</style>\n",
       "<table border=\"1\" class=\"dataframe\">\n",
       "  <thead>\n",
       "    <tr style=\"text-align: right;\">\n",
       "      <th></th>\n",
       "      <th>horsepower</th>\n",
       "      <th>mpg</th>\n",
       "      <th>baseline_preds</th>\n",
       "      <th>yhat</th>\n",
       "      <th>baseline_res</th>\n",
       "    </tr>\n",
       "  </thead>\n",
       "  <tbody>\n",
       "    <tr>\n",
       "      <th>212</th>\n",
       "      <td>180.0</td>\n",
       "      <td>16.5</td>\n",
       "      <td>23.5</td>\n",
       "      <td>11.058302</td>\n",
       "      <td>7.0</td>\n",
       "    </tr>\n",
       "    <tr>\n",
       "      <th>346</th>\n",
       "      <td>67.0</td>\n",
       "      <td>32.3</td>\n",
       "      <td>23.5</td>\n",
       "      <td>30.114463</td>\n",
       "      <td>-8.8</td>\n",
       "    </tr>\n",
       "    <tr>\n",
       "      <th>325</th>\n",
       "      <td>48.0</td>\n",
       "      <td>44.3</td>\n",
       "      <td>23.5</td>\n",
       "      <td>33.318596</td>\n",
       "      <td>-20.8</td>\n",
       "    </tr>\n",
       "    <tr>\n",
       "      <th>90</th>\n",
       "      <td>198.0</td>\n",
       "      <td>12.0</td>\n",
       "      <td>23.5</td>\n",
       "      <td>8.022807</td>\n",
       "      <td>11.5</td>\n",
       "    </tr>\n",
       "    <tr>\n",
       "      <th>246</th>\n",
       "      <td>52.0</td>\n",
       "      <td>32.8</td>\n",
       "      <td>23.5</td>\n",
       "      <td>32.644042</td>\n",
       "      <td>-9.3</td>\n",
       "    </tr>\n",
       "  </tbody>\n",
       "</table>\n",
       "</div>"
      ],
      "text/plain": [
       "     horsepower   mpg  baseline_preds       yhat  baseline_res\n",
       "212       180.0  16.5            23.5  11.058302           7.0\n",
       "346        67.0  32.3            23.5  30.114463          -8.8\n",
       "325        48.0  44.3            23.5  33.318596         -20.8\n",
       "90        198.0  12.0            23.5   8.022807          11.5\n",
       "246        52.0  32.8            23.5  32.644042          -9.3"
      ]
     },
     "execution_count": 9,
     "metadata": {},
     "output_type": "execute_result"
    }
   ],
   "source": [
    "preds['baseline_res'] = preds['baseline_preds'] - preds['mpg']\n",
    "preds.head()"
   ]
  },
  {
   "cell_type": "code",
   "execution_count": 10,
   "id": "26f0a345",
   "metadata": {},
   "outputs": [
    {
     "data": {
      "image/png": "[encoded data removed]",
      "text/plain": [
       "<Figure size 432x288 with 1 Axes>"
      ]
     },
     "metadata": {
      "needs_background": "light"
     },
     "output_type": "display_data"
    }
   ],
   "source": [
    "plt.scatter(preds['horsepower'], preds['baseline_res'])\n",
    "plt.xlabel('Horsepower')\n",
    "plt.ylabel('Baseline Residual')\n",
    "plt.show()"
   ]
  },
  {
   "cell_type": "code",
   "execution_count": 11,
   "id": "1a25901f",
   "metadata": {},
   "outputs": [
    {
     "data": {
      "text/html": [
       "<div>\n",
       "<style scoped>\n",
       "    .dataframe tbody tr th:only-of-type {\n",
       "        vertical-align: middle;\n",
       "    }\n",
       "\n",
       "    .dataframe tbody tr th {\n",
       "        vertical-align: top;\n",
       "    }\n",
       "\n",
       "    .dataframe thead th {\n",
       "        text-align: right;\n",
       "    }\n",
       "</style>\n",
       "<table border=\"1\" class=\"dataframe\">\n",
       "  <thead>\n",
       "    <tr style=\"text-align: right;\">\n",
       "      <th></th>\n",
       "      <th>horsepower</th>\n",
       "      <th>mpg</th>\n",
       "      <th>baseline_preds</th>\n",
       "      <th>yhat</th>\n",
       "      <th>baseline_res</th>\n",
       "      <th>yhat_res</th>\n",
       "    </tr>\n",
       "  </thead>\n",
       "  <tbody>\n",
       "    <tr>\n",
       "      <th>212</th>\n",
       "      <td>180.0</td>\n",
       "      <td>16.5</td>\n",
       "      <td>23.5</td>\n",
       "      <td>11.058302</td>\n",
       "      <td>7.0</td>\n",
       "      <td>-5.441698</td>\n",
       "    </tr>\n",
       "    <tr>\n",
       "      <th>346</th>\n",
       "      <td>67.0</td>\n",
       "      <td>32.3</td>\n",
       "      <td>23.5</td>\n",
       "      <td>30.114463</td>\n",
       "      <td>-8.8</td>\n",
       "      <td>-2.185537</td>\n",
       "    </tr>\n",
       "    <tr>\n",
       "      <th>325</th>\n",
       "      <td>48.0</td>\n",
       "      <td>44.3</td>\n",
       "      <td>23.5</td>\n",
       "      <td>33.318596</td>\n",
       "      <td>-20.8</td>\n",
       "      <td>-10.981404</td>\n",
       "    </tr>\n",
       "    <tr>\n",
       "      <th>90</th>\n",
       "      <td>198.0</td>\n",
       "      <td>12.0</td>\n",
       "      <td>23.5</td>\n",
       "      <td>8.022807</td>\n",
       "      <td>11.5</td>\n",
       "      <td>-3.977193</td>\n",
       "    </tr>\n",
       "    <tr>\n",
       "      <th>246</th>\n",
       "      <td>52.0</td>\n",
       "      <td>32.8</td>\n",
       "      <td>23.5</td>\n",
       "      <td>32.644042</td>\n",
       "      <td>-9.3</td>\n",
       "      <td>-0.155958</td>\n",
       "    </tr>\n",
       "  </tbody>\n",
       "</table>\n",
       "</div>"
      ],
      "text/plain": [
       "     horsepower   mpg  baseline_preds       yhat  baseline_res   yhat_res\n",
       "212       180.0  16.5            23.5  11.058302           7.0  -5.441698\n",
       "346        67.0  32.3            23.5  30.114463          -8.8  -2.185537\n",
       "325        48.0  44.3            23.5  33.318596         -20.8 -10.981404\n",
       "90        198.0  12.0            23.5   8.022807          11.5  -3.977193\n",
       "246        52.0  32.8            23.5  32.644042          -9.3  -0.155958"
      ]
     },
     "execution_count": 11,
     "metadata": {},
     "output_type": "execute_result"
    }
   ],
   "source": [
    "preds['yhat_res'] = preds['yhat'] - preds['mpg']\n",
    "preds.head()"
   ]
  },
  {
   "cell_type": "code",
   "execution_count": 12,
   "id": "39a75f27",
   "metadata": {},
   "outputs": [
    {
     "data": {
      "image/png": "[encoded data removed]",
      "text/plain": [
       "<Figure size 432x288 with 1 Axes>"
      ]
     },
     "metadata": {
      "needs_background": "light"
     },
     "output_type": "display_data"
    }
   ],
   "source": [
    "plt.scatter(preds['horsepower'], preds['yhat_res'])\n",
    "plt.xlabel('Horsepower')\n",
    "plt.ylabel('Predictions residuals')\n",
    "plt.show()"
   ]
  },
  {
   "cell_type": "markdown",
   "id": "59217aeb",
   "metadata": {},
   "source": [
    "### Compute SSE\n",
    "\n",
    "SSE - Sum of Squared Errors\n",
    "\n",
    "Also known as the RSS - Residual Sum of Squares\n",
    "\n",
    "Predicted minus actual, squared and summed"
   ]
  },
  {
   "cell_type": "code",
   "execution_count": 13,
   "id": "c52dea46",
   "metadata": {},
   "outputs": [
    {
     "data": {
      "text/plain": [
       "Index(['horsepower', 'mpg', 'baseline_preds', 'yhat', 'baseline_res',\n",
       "       'yhat_res'],\n",
       "      dtype='object')"
      ]
     },
     "execution_count": 13,
     "metadata": {},
     "output_type": "execute_result"
    }
   ],
   "source": [
    "preds.columns"
   ]
  },
  {
   "cell_type": "code",
   "execution_count": 14,
   "id": "17f488f2",
   "metadata": {},
   "outputs": [
    {
     "data": {
      "text/html": [
       "<div>\n",
       "<style scoped>\n",
       "    .dataframe tbody tr th:only-of-type {\n",
       "        vertical-align: middle;\n",
       "    }\n",
       "\n",
       "    .dataframe tbody tr th {\n",
       "        vertical-align: top;\n",
       "    }\n",
       "\n",
       "    .dataframe thead th {\n",
       "        text-align: right;\n",
       "    }\n",
       "</style>\n",
       "<table border=\"1\" class=\"dataframe\">\n",
       "  <thead>\n",
       "    <tr style=\"text-align: right;\">\n",
       "      <th></th>\n",
       "      <th>horsepower</th>\n",
       "      <th>mpg</th>\n",
       "      <th>baseline_preds</th>\n",
       "      <th>yhat</th>\n",
       "      <th>baseline_res</th>\n",
       "      <th>yhat_res</th>\n",
       "      <th>baseline_res_squared</th>\n",
       "      <th>yhat_res_squared</th>\n",
       "    </tr>\n",
       "  </thead>\n",
       "  <tbody>\n",
       "    <tr>\n",
       "      <th>212</th>\n",
       "      <td>180.0</td>\n",
       "      <td>16.5</td>\n",
       "      <td>23.5</td>\n",
       "      <td>11.058302</td>\n",
       "      <td>7.0</td>\n",
       "      <td>-5.441698</td>\n",
       "      <td>49.00</td>\n",
       "      <td>29.612081</td>\n",
       "    </tr>\n",
       "    <tr>\n",
       "      <th>346</th>\n",
       "      <td>67.0</td>\n",
       "      <td>32.3</td>\n",
       "      <td>23.5</td>\n",
       "      <td>30.114463</td>\n",
       "      <td>-8.8</td>\n",
       "      <td>-2.185537</td>\n",
       "      <td>77.44</td>\n",
       "      <td>4.776574</td>\n",
       "    </tr>\n",
       "    <tr>\n",
       "      <th>325</th>\n",
       "      <td>48.0</td>\n",
       "      <td>44.3</td>\n",
       "      <td>23.5</td>\n",
       "      <td>33.318596</td>\n",
       "      <td>-20.8</td>\n",
       "      <td>-10.981404</td>\n",
       "      <td>432.64</td>\n",
       "      <td>120.591236</td>\n",
       "    </tr>\n",
       "    <tr>\n",
       "      <th>90</th>\n",
       "      <td>198.0</td>\n",
       "      <td>12.0</td>\n",
       "      <td>23.5</td>\n",
       "      <td>8.022807</td>\n",
       "      <td>11.5</td>\n",
       "      <td>-3.977193</td>\n",
       "      <td>132.25</td>\n",
       "      <td>15.818065</td>\n",
       "    </tr>\n",
       "    <tr>\n",
       "      <th>246</th>\n",
       "      <td>52.0</td>\n",
       "      <td>32.8</td>\n",
       "      <td>23.5</td>\n",
       "      <td>32.644042</td>\n",
       "      <td>-9.3</td>\n",
       "      <td>-0.155958</td>\n",
       "      <td>86.49</td>\n",
       "      <td>0.024323</td>\n",
       "    </tr>\n",
       "  </tbody>\n",
       "</table>\n",
       "</div>"
      ],
      "text/plain": [
       "     horsepower   mpg  baseline_preds       yhat  baseline_res   yhat_res  \\\n",
       "212       180.0  16.5            23.5  11.058302           7.0  -5.441698   \n",
       "346        67.0  32.3            23.5  30.114463          -8.8  -2.185537   \n",
       "325        48.0  44.3            23.5  33.318596         -20.8 -10.981404   \n",
       "90        198.0  12.0            23.5   8.022807          11.5  -3.977193   \n",
       "246        52.0  32.8            23.5  32.644042          -9.3  -0.155958   \n",
       "\n",
       "     baseline_res_squared  yhat_res_squared  \n",
       "212                 49.00         29.612081  \n",
       "346                 77.44          4.776574  \n",
       "325                432.64        120.591236  \n",
       "90                 132.25         15.818065  \n",
       "246                 86.49          0.024323  "
      ]
     },
     "execution_count": 14,
     "metadata": {},
     "output_type": "execute_result"
    }
   ],
   "source": [
    "preds['baseline_res_squared'] = preds['baseline_res'] ** 2\n",
    "preds['yhat_res_squared'] = preds['yhat_res'] ** 2\n",
    "preds.head()"
   ]
  },
  {
   "cell_type": "code",
   "execution_count": 15,
   "id": "0722b1de",
   "metadata": {},
   "outputs": [
    {
     "data": {
      "text/plain": [
       "(15330.830000000002, 5355.469277811718)"
      ]
     },
     "execution_count": 15,
     "metadata": {},
     "output_type": "execute_result"
    }
   ],
   "source": [
    "sse_baseline = preds['baseline_res_squared'].sum()\n",
    "sse_yhat = preds['yhat_res_squared'].sum()\n",
    "sse_baseline, sse_yhat"
   ]
  },
  {
   "cell_type": "markdown",
   "id": "b43451bf",
   "metadata": {},
   "source": [
    "### Compute MSE\n",
    "\n",
    "MSE - Mean Squared Error\n",
    "\n",
    "Divide the SSE by the total number of data points"
   ]
  },
  {
   "cell_type": "code",
   "execution_count": 16,
   "id": "5639ab4d",
   "metadata": {},
   "outputs": [
    {
     "data": {
      "text/plain": [
       "(65.23757446808511, 22.789230969411566)"
      ]
     },
     "execution_count": 16,
     "metadata": {},
     "output_type": "execute_result"
    }
   ],
   "source": [
    "mse_baseline = sse_baseline / len(preds)\n",
    "mse_yhat = sse_yhat / len(preds)\n",
    "mse_baseline, mse_yhat"
   ]
  },
  {
   "cell_type": "markdown",
   "id": "044412e9",
   "metadata": {},
   "source": [
    "### Compute RMSE\n",
    "\n",
    "RMSE - Root Mean Squared Error\n",
    "\n",
    "Take the square root of the MSE"
   ]
  },
  {
   "cell_type": "code",
   "execution_count": 17,
   "id": "74b656e0",
   "metadata": {},
   "outputs": [
    {
     "data": {
      "text/plain": [
       "(8.076978052965423, 4.773806758700185)"
      ]
     },
     "execution_count": 17,
     "metadata": {},
     "output_type": "execute_result"
    }
   ],
   "source": [
    "rmse_baseline = sqrt(mse_baseline)\n",
    "rmse_yhat = sqrt(mse_yhat)\n",
    "rmse_baseline, rmse_yhat"
   ]
  },
  {
   "cell_type": "markdown",
   "id": "94c0e17a",
   "metadata": {},
   "source": [
    "### Doing it all with the sklearn library\n",
    "\n",
    "mean_squared_error"
   ]
  },
  {
   "cell_type": "code",
   "execution_count": 18,
   "id": "4cf0cba2",
   "metadata": {},
   "outputs": [
    {
     "data": {
      "text/plain": [
       "Index(['horsepower', 'mpg', 'baseline_preds', 'yhat', 'baseline_res',\n",
       "       'yhat_res', 'baseline_res_squared', 'yhat_res_squared'],\n",
       "      dtype='object')"
      ]
     },
     "execution_count": 18,
     "metadata": {},
     "output_type": "execute_result"
    }
   ],
   "source": [
    "preds.columns"
   ]
  },
  {
   "cell_type": "code",
   "execution_count": 19,
   "id": "a39c72ba",
   "metadata": {},
   "outputs": [
    {
     "data": {
      "text/plain": [
       "8.076978052965423"
      ]
     },
     "execution_count": 19,
     "metadata": {},
     "output_type": "execute_result"
    }
   ],
   "source": [
    "sqrt(mean_squared_error(preds['mpg'], preds['baseline_preds']))"
   ]
  },
  {
   "cell_type": "code",
   "execution_count": 20,
   "id": "7b967c4b",
   "metadata": {},
   "outputs": [
    {
     "data": {
      "text/plain": [
       "4.773806758700185"
      ]
     },
     "execution_count": 20,
     "metadata": {},
     "output_type": "execute_result"
    }
   ],
   "source": [
    "sqrt(mean_squared_error(preds['yhat'], preds['mpg']))"
   ]
  },
  {
   "cell_type": "code",
   "execution_count": 21,
   "id": "50fb0860",
   "metadata": {},
   "outputs": [
    {
     "data": {
      "text/plain": [
       "4.773806758700185"
      ]
     },
     "execution_count": 21,
     "metadata": {},
     "output_type": "execute_result"
    }
   ],
   "source": [
    "mean_squared_error(preds['yhat'], preds['mpg'], squared=False)"
   ]
  },
  {
   "cell_type": "markdown",
   "id": "a13e03a5",
   "metadata": {},
   "source": [
    "### Model significance\n",
    "\n",
    "Calculating the R^2 value by hand\n",
    "\n",
    "R^2 = ESS / TSS"
   ]
  },
  {
   "cell_type": "markdown",
   "id": "56c541ff",
   "metadata": {},
   "source": [
    "### Compute ESS\n",
    "\n",
    "ESS - Explained Sum of Squares\n",
    "\n",
    "Prediction minus mean of actual values, squared and summed"
   ]
  },
  {
   "cell_type": "code",
   "execution_count": 22,
   "id": "a6b412ee",
   "metadata": {},
   "outputs": [
    {
     "data": {
      "text/html": [
       "<div>\n",
       "<style scoped>\n",
       "    .dataframe tbody tr th:only-of-type {\n",
       "        vertical-align: middle;\n",
       "    }\n",
       "\n",
       "    .dataframe tbody tr th {\n",
       "        vertical-align: top;\n",
       "    }\n",
       "\n",
       "    .dataframe thead th {\n",
       "        text-align: right;\n",
       "    }\n",
       "</style>\n",
       "<table border=\"1\" class=\"dataframe\">\n",
       "  <thead>\n",
       "    <tr style=\"text-align: right;\">\n",
       "      <th></th>\n",
       "      <th>horsepower</th>\n",
       "      <th>mpg</th>\n",
       "      <th>baseline_preds</th>\n",
       "      <th>yhat</th>\n",
       "      <th>baseline_res</th>\n",
       "      <th>yhat_res</th>\n",
       "      <th>baseline_res_squared</th>\n",
       "      <th>yhat_res_squared</th>\n",
       "    </tr>\n",
       "  </thead>\n",
       "  <tbody>\n",
       "    <tr>\n",
       "      <th>212</th>\n",
       "      <td>180.0</td>\n",
       "      <td>16.5</td>\n",
       "      <td>23.5</td>\n",
       "      <td>11.058302</td>\n",
       "      <td>7.0</td>\n",
       "      <td>-5.441698</td>\n",
       "      <td>49.00</td>\n",
       "      <td>29.612081</td>\n",
       "    </tr>\n",
       "    <tr>\n",
       "      <th>346</th>\n",
       "      <td>67.0</td>\n",
       "      <td>32.3</td>\n",
       "      <td>23.5</td>\n",
       "      <td>30.114463</td>\n",
       "      <td>-8.8</td>\n",
       "      <td>-2.185537</td>\n",
       "      <td>77.44</td>\n",
       "      <td>4.776574</td>\n",
       "    </tr>\n",
       "    <tr>\n",
       "      <th>325</th>\n",
       "      <td>48.0</td>\n",
       "      <td>44.3</td>\n",
       "      <td>23.5</td>\n",
       "      <td>33.318596</td>\n",
       "      <td>-20.8</td>\n",
       "      <td>-10.981404</td>\n",
       "      <td>432.64</td>\n",
       "      <td>120.591236</td>\n",
       "    </tr>\n",
       "    <tr>\n",
       "      <th>90</th>\n",
       "      <td>198.0</td>\n",
       "      <td>12.0</td>\n",
       "      <td>23.5</td>\n",
       "      <td>8.022807</td>\n",
       "      <td>11.5</td>\n",
       "      <td>-3.977193</td>\n",
       "      <td>132.25</td>\n",
       "      <td>15.818065</td>\n",
       "    </tr>\n",
       "    <tr>\n",
       "      <th>246</th>\n",
       "      <td>52.0</td>\n",
       "      <td>32.8</td>\n",
       "      <td>23.5</td>\n",
       "      <td>32.644042</td>\n",
       "      <td>-9.3</td>\n",
       "      <td>-0.155958</td>\n",
       "      <td>86.49</td>\n",
       "      <td>0.024323</td>\n",
       "    </tr>\n",
       "  </tbody>\n",
       "</table>\n",
       "</div>"
      ],
      "text/plain": [
       "     horsepower   mpg  baseline_preds       yhat  baseline_res   yhat_res  \\\n",
       "212       180.0  16.5            23.5  11.058302           7.0  -5.441698   \n",
       "346        67.0  32.3            23.5  30.114463          -8.8  -2.185537   \n",
       "325        48.0  44.3            23.5  33.318596         -20.8 -10.981404   \n",
       "90        198.0  12.0            23.5   8.022807          11.5  -3.977193   \n",
       "246        52.0  32.8            23.5  32.644042          -9.3  -0.155958   \n",
       "\n",
       "     baseline_res_squared  yhat_res_squared  \n",
       "212                 49.00         29.612081  \n",
       "346                 77.44          4.776574  \n",
       "325                432.64        120.591236  \n",
       "90                 132.25         15.818065  \n",
       "246                 86.49          0.024323  "
      ]
     },
     "execution_count": 22,
     "metadata": {},
     "output_type": "execute_result"
    }
   ],
   "source": [
    "preds.head()"
   ]
  },
  {
   "cell_type": "code",
   "execution_count": 23,
   "id": "b8a23721",
   "metadata": {},
   "outputs": [
    {
     "data": {
      "text/html": [
       "<div>\n",
       "<style scoped>\n",
       "    .dataframe tbody tr th:only-of-type {\n",
       "        vertical-align: middle;\n",
       "    }\n",
       "\n",
       "    .dataframe tbody tr th {\n",
       "        vertical-align: top;\n",
       "    }\n",
       "\n",
       "    .dataframe thead th {\n",
       "        text-align: right;\n",
       "    }\n",
       "</style>\n",
       "<table border=\"1\" class=\"dataframe\">\n",
       "  <thead>\n",
       "    <tr style=\"text-align: right;\">\n",
       "      <th></th>\n",
       "      <th>horsepower</th>\n",
       "      <th>mpg</th>\n",
       "      <th>baseline_preds</th>\n",
       "      <th>yhat</th>\n",
       "      <th>baseline_res</th>\n",
       "      <th>yhat_res</th>\n",
       "      <th>baseline_res_squared</th>\n",
       "      <th>yhat_res_squared</th>\n",
       "      <th>yhat_mean_res</th>\n",
       "    </tr>\n",
       "  </thead>\n",
       "  <tbody>\n",
       "    <tr>\n",
       "      <th>212</th>\n",
       "      <td>180.0</td>\n",
       "      <td>16.5</td>\n",
       "      <td>23.5</td>\n",
       "      <td>11.058302</td>\n",
       "      <td>7.0</td>\n",
       "      <td>-5.441698</td>\n",
       "      <td>49.00</td>\n",
       "      <td>29.612081</td>\n",
       "      <td>-12.441698</td>\n",
       "    </tr>\n",
       "    <tr>\n",
       "      <th>346</th>\n",
       "      <td>67.0</td>\n",
       "      <td>32.3</td>\n",
       "      <td>23.5</td>\n",
       "      <td>30.114463</td>\n",
       "      <td>-8.8</td>\n",
       "      <td>-2.185537</td>\n",
       "      <td>77.44</td>\n",
       "      <td>4.776574</td>\n",
       "      <td>6.614463</td>\n",
       "    </tr>\n",
       "    <tr>\n",
       "      <th>325</th>\n",
       "      <td>48.0</td>\n",
       "      <td>44.3</td>\n",
       "      <td>23.5</td>\n",
       "      <td>33.318596</td>\n",
       "      <td>-20.8</td>\n",
       "      <td>-10.981404</td>\n",
       "      <td>432.64</td>\n",
       "      <td>120.591236</td>\n",
       "      <td>9.818596</td>\n",
       "    </tr>\n",
       "    <tr>\n",
       "      <th>90</th>\n",
       "      <td>198.0</td>\n",
       "      <td>12.0</td>\n",
       "      <td>23.5</td>\n",
       "      <td>8.022807</td>\n",
       "      <td>11.5</td>\n",
       "      <td>-3.977193</td>\n",
       "      <td>132.25</td>\n",
       "      <td>15.818065</td>\n",
       "      <td>-15.477193</td>\n",
       "    </tr>\n",
       "    <tr>\n",
       "      <th>246</th>\n",
       "      <td>52.0</td>\n",
       "      <td>32.8</td>\n",
       "      <td>23.5</td>\n",
       "      <td>32.644042</td>\n",
       "      <td>-9.3</td>\n",
       "      <td>-0.155958</td>\n",
       "      <td>86.49</td>\n",
       "      <td>0.024323</td>\n",
       "      <td>9.144042</td>\n",
       "    </tr>\n",
       "  </tbody>\n",
       "</table>\n",
       "</div>"
      ],
      "text/plain": [
       "     horsepower   mpg  baseline_preds       yhat  baseline_res   yhat_res  \\\n",
       "212       180.0  16.5            23.5  11.058302           7.0  -5.441698   \n",
       "346        67.0  32.3            23.5  30.114463          -8.8  -2.185537   \n",
       "325        48.0  44.3            23.5  33.318596         -20.8 -10.981404   \n",
       "90        198.0  12.0            23.5   8.022807          11.5  -3.977193   \n",
       "246        52.0  32.8            23.5  32.644042          -9.3  -0.155958   \n",
       "\n",
       "     baseline_res_squared  yhat_res_squared  yhat_mean_res  \n",
       "212                 49.00         29.612081     -12.441698  \n",
       "346                 77.44          4.776574       6.614463  \n",
       "325                432.64        120.591236       9.818596  \n",
       "90                 132.25         15.818065     -15.477193  \n",
       "246                 86.49          0.024323       9.144042  "
      ]
     },
     "execution_count": 23,
     "metadata": {},
     "output_type": "execute_result"
    }
   ],
   "source": [
    "preds['yhat_mean_res'] = preds['yhat'] - preds['baseline_preds']\n",
    "preds.head()"
   ]
  },
  {
   "cell_type": "code",
   "execution_count": 24,
   "id": "ab54b0f2",
   "metadata": {},
   "outputs": [
    {
     "data": {
      "text/html": [
       "<div>\n",
       "<style scoped>\n",
       "    .dataframe tbody tr th:only-of-type {\n",
       "        vertical-align: middle;\n",
       "    }\n",
       "\n",
       "    .dataframe tbody tr th {\n",
       "        vertical-align: top;\n",
       "    }\n",
       "\n",
       "    .dataframe thead th {\n",
       "        text-align: right;\n",
       "    }\n",
       "</style>\n",
       "<table border=\"1\" class=\"dataframe\">\n",
       "  <thead>\n",
       "    <tr style=\"text-align: right;\">\n",
       "      <th></th>\n",
       "      <th>horsepower</th>\n",
       "      <th>mpg</th>\n",
       "      <th>baseline_preds</th>\n",
       "      <th>yhat</th>\n",
       "      <th>baseline_res</th>\n",
       "      <th>yhat_res</th>\n",
       "      <th>baseline_res_squared</th>\n",
       "      <th>yhat_res_squared</th>\n",
       "      <th>yhat_mean_res</th>\n",
       "      <th>yhat_mean_res_squared</th>\n",
       "    </tr>\n",
       "  </thead>\n",
       "  <tbody>\n",
       "    <tr>\n",
       "      <th>212</th>\n",
       "      <td>180.0</td>\n",
       "      <td>16.5</td>\n",
       "      <td>23.5</td>\n",
       "      <td>11.058302</td>\n",
       "      <td>7.0</td>\n",
       "      <td>-5.441698</td>\n",
       "      <td>49.00</td>\n",
       "      <td>29.612081</td>\n",
       "      <td>-12.441698</td>\n",
       "      <td>154.795859</td>\n",
       "    </tr>\n",
       "    <tr>\n",
       "      <th>346</th>\n",
       "      <td>67.0</td>\n",
       "      <td>32.3</td>\n",
       "      <td>23.5</td>\n",
       "      <td>30.114463</td>\n",
       "      <td>-8.8</td>\n",
       "      <td>-2.185537</td>\n",
       "      <td>77.44</td>\n",
       "      <td>4.776574</td>\n",
       "      <td>6.614463</td>\n",
       "      <td>43.751116</td>\n",
       "    </tr>\n",
       "    <tr>\n",
       "      <th>325</th>\n",
       "      <td>48.0</td>\n",
       "      <td>44.3</td>\n",
       "      <td>23.5</td>\n",
       "      <td>33.318596</td>\n",
       "      <td>-20.8</td>\n",
       "      <td>-10.981404</td>\n",
       "      <td>432.64</td>\n",
       "      <td>120.591236</td>\n",
       "      <td>9.818596</td>\n",
       "      <td>96.404826</td>\n",
       "    </tr>\n",
       "    <tr>\n",
       "      <th>90</th>\n",
       "      <td>198.0</td>\n",
       "      <td>12.0</td>\n",
       "      <td>23.5</td>\n",
       "      <td>8.022807</td>\n",
       "      <td>11.5</td>\n",
       "      <td>-3.977193</td>\n",
       "      <td>132.25</td>\n",
       "      <td>15.818065</td>\n",
       "      <td>-15.477193</td>\n",
       "      <td>239.543505</td>\n",
       "    </tr>\n",
       "    <tr>\n",
       "      <th>246</th>\n",
       "      <td>52.0</td>\n",
       "      <td>32.8</td>\n",
       "      <td>23.5</td>\n",
       "      <td>32.644042</td>\n",
       "      <td>-9.3</td>\n",
       "      <td>-0.155958</td>\n",
       "      <td>86.49</td>\n",
       "      <td>0.024323</td>\n",
       "      <td>9.144042</td>\n",
       "      <td>83.613496</td>\n",
       "    </tr>\n",
       "  </tbody>\n",
       "</table>\n",
       "</div>"
      ],
      "text/plain": [
       "     horsepower   mpg  baseline_preds       yhat  baseline_res   yhat_res  \\\n",
       "212       180.0  16.5            23.5  11.058302           7.0  -5.441698   \n",
       "346        67.0  32.3            23.5  30.114463          -8.8  -2.185537   \n",
       "325        48.0  44.3            23.5  33.318596         -20.8 -10.981404   \n",
       "90        198.0  12.0            23.5   8.022807          11.5  -3.977193   \n",
       "246        52.0  32.8            23.5  32.644042          -9.3  -0.155958   \n",
       "\n",
       "     baseline_res_squared  yhat_res_squared  yhat_mean_res  \\\n",
       "212                 49.00         29.612081     -12.441698   \n",
       "346                 77.44          4.776574       6.614463   \n",
       "325                432.64        120.591236       9.818596   \n",
       "90                 132.25         15.818065     -15.477193   \n",
       "246                 86.49          0.024323       9.144042   \n",
       "\n",
       "     yhat_mean_res_squared  \n",
       "212             154.795859  \n",
       "346              43.751116  \n",
       "325              96.404826  \n",
       "90              239.543505  \n",
       "246              83.613496  "
      ]
     },
     "execution_count": 24,
     "metadata": {},
     "output_type": "execute_result"
    }
   ],
   "source": [
    "preds['yhat_mean_res_squared'] = preds['yhat_mean_res'] ** 2\n",
    "preds.head()"
   ]
  },
  {
   "cell_type": "code",
   "execution_count": 25,
   "id": "490f45c2",
   "metadata": {},
   "outputs": [
    {
     "data": {
      "text/plain": [
       "9975.360722188278"
      ]
     },
     "execution_count": 25,
     "metadata": {},
     "output_type": "execute_result"
    }
   ],
   "source": [
    "ess_baseline = 0\n",
    "ess_yhat = preds['yhat_mean_res_squared'].sum()\n",
    "ess_yhat"
   ]
  },
  {
   "cell_type": "markdown",
   "id": "92ab8383",
   "metadata": {},
   "source": [
    "### Compute TSS\n",
    "\n",
    "TSS - Total Sum of Squares\n",
    "\n",
    "ESS + SSE"
   ]
  },
  {
   "cell_type": "code",
   "execution_count": 26,
   "id": "3734acf2",
   "metadata": {},
   "outputs": [],
   "source": [
    "tss_baseline = sse_baseline + ess_baseline"
   ]
  },
  {
   "cell_type": "code",
   "execution_count": 27,
   "id": "c3d730c6",
   "metadata": {},
   "outputs": [],
   "source": [
    "tss_yhat = sse_yhat + ess_yhat"
   ]
  },
  {
   "cell_type": "markdown",
   "id": "f8f6288f",
   "metadata": {},
   "source": [
    "### Putting it all together"
   ]
  },
  {
   "cell_type": "code",
   "execution_count": 28,
   "id": "bc83099a",
   "metadata": {},
   "outputs": [
    {
     "data": {
      "text/plain": [
       "0.0"
      ]
     },
     "execution_count": 28,
     "metadata": {},
     "output_type": "execute_result"
    }
   ],
   "source": [
    "ess_baseline / tss_baseline"
   ]
  },
  {
   "cell_type": "code",
   "execution_count": 29,
   "id": "d85fa6cb",
   "metadata": {},
   "outputs": [
    {
     "data": {
      "text/plain": [
       "0.6506732330988134"
      ]
     },
     "execution_count": 29,
     "metadata": {},
     "output_type": "execute_result"
    }
   ],
   "source": [
    "ess_yhat / tss_yhat"
   ]
  },
  {
   "cell_type": "markdown",
   "id": "e2fe788b",
   "metadata": {},
   "source": [
    "### Using the sklearn library instead\n",
    "\n",
    "explained_variance_score"
   ]
  },
  {
   "cell_type": "code",
   "execution_count": 30,
   "id": "f127af58",
   "metadata": {},
   "outputs": [
    {
     "data": {
      "text/plain": [
       "0.6506731545601601"
      ]
     },
     "execution_count": 30,
     "metadata": {},
     "output_type": "execute_result"
    }
   ],
   "source": [
    "explained_variance_score(preds['mpg'], preds['yhat'])"
   ]
  },
  {
   "cell_type": "code",
   "execution_count": null,
   "id": "36297d88",
   "metadata": {},
   "outputs": [],
   "source": []
  }
 ],
 "metadata": {
  "kernelspec": {
   "display_name": "Python 3 (ipykernel)",
   "language": "python",
   "name": "python3"
  },
  "language_info": {
   "codemirror_mode": {
    "name": "ipython",
    "version": 3
   },
   "file_extension": ".py",
   "mimetype": "text/x-python",
   "name": "python",
   "nbconvert_exporter": "python",
   "pygments_lexer": "ipython3",
   "version": "3.9.12"
  }
 },
 "nbformat": 4,
 "nbformat_minor": 5
}
