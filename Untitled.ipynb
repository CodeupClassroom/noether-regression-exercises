{
 "cells": [
  {
   "cell_type": "code",
   "execution_count": 27,
   "id": "a030260e",
   "metadata": {},
   "outputs": [],
   "source": [
    "#import ignore warninings\n",
    "import warnings\n",
    "warnings.filterwarnings(\"ignore\")\n",
    "\n",
    "#standard ds imports\n",
    "import pandas as pd\n",
    "import numpy as np\n",
    "from pydataset import data\n",
    "\n",
    "#visualization imports\n",
    "import matplotlib.pyplot as plt\n",
    "import seaborn as sns\n",
    "\n",
    "#math imports\n",
    "import math\n",
    "from sklearn.preprocessing import MinMaxScaler\n",
    "from sklearn.model_selection import train_test_split\n",
    "from scipy.stats import pearsonr, spearmanr\n",
    "from sklearn.linear_model import LinearRegression\n",
    "from sklearn.metrics import r2_score, mean_squared_error\n",
    "from sklearn.metrics import explained_variance_score\n",
    "\n",
    "#custom import\n",
    "import wrangle"
   ]
  },
  {
   "cell_type": "code",
   "execution_count": 2,
   "id": "d4a7f374",
   "metadata": {},
   "outputs": [
    {
     "name": "stdout",
     "output_type": "stream",
     "text": [
      "train: (1033073, 7)\n",
      "validate: (442746, 7)\n",
      "test: (368955, 7)\n"
     ]
    }
   ],
   "source": [
    "#use the wrangle module to call our custom function\n",
    "train, validate, test = wrangle.split_clean_zillow()"
   ]
  },
  {
   "cell_type": "code",
   "execution_count": 3,
   "id": "f38996a2",
   "metadata": {},
   "outputs": [
    {
     "data": {
      "text/html": [
       "<div>\n",
       "<style scoped>\n",
       "    .dataframe tbody tr th:only-of-type {\n",
       "        vertical-align: middle;\n",
       "    }\n",
       "\n",
       "    .dataframe tbody tr th {\n",
       "        vertical-align: top;\n",
       "    }\n",
       "\n",
       "    .dataframe thead th {\n",
       "        text-align: right;\n",
       "    }\n",
       "</style>\n",
       "<table border=\"1\" class=\"dataframe\">\n",
       "  <thead>\n",
       "    <tr style=\"text-align: right;\">\n",
       "      <th></th>\n",
       "      <th>bedrooms</th>\n",
       "      <th>bathrooms</th>\n",
       "      <th>sqft</th>\n",
       "      <th>home_value</th>\n",
       "      <th>year_built</th>\n",
       "      <th>sale_tax</th>\n",
       "      <th>fips</th>\n",
       "    </tr>\n",
       "  </thead>\n",
       "  <tbody>\n",
       "    <tr>\n",
       "      <th>98009</th>\n",
       "      <td>3.0</td>\n",
       "      <td>3.0</td>\n",
       "      <td>2630.0</td>\n",
       "      <td>467280.0</td>\n",
       "      <td>1959.0</td>\n",
       "      <td>5822.39</td>\n",
       "      <td>6037.0</td>\n",
       "    </tr>\n",
       "    <tr>\n",
       "      <th>1302707</th>\n",
       "      <td>4.0</td>\n",
       "      <td>2.0</td>\n",
       "      <td>1576.0</td>\n",
       "      <td>220764.0</td>\n",
       "      <td>1985.0</td>\n",
       "      <td>2801.04</td>\n",
       "      <td>6037.0</td>\n",
       "    </tr>\n",
       "    <tr>\n",
       "      <th>1400834</th>\n",
       "      <td>3.0</td>\n",
       "      <td>2.0</td>\n",
       "      <td>1517.0</td>\n",
       "      <td>86868.0</td>\n",
       "      <td>1951.0</td>\n",
       "      <td>1097.60</td>\n",
       "      <td>6037.0</td>\n",
       "    </tr>\n",
       "    <tr>\n",
       "      <th>1750528</th>\n",
       "      <td>3.0</td>\n",
       "      <td>2.0</td>\n",
       "      <td>1447.0</td>\n",
       "      <td>215803.0</td>\n",
       "      <td>1949.0</td>\n",
       "      <td>2992.81</td>\n",
       "      <td>6037.0</td>\n",
       "    </tr>\n",
       "    <tr>\n",
       "      <th>1573330</th>\n",
       "      <td>3.0</td>\n",
       "      <td>2.0</td>\n",
       "      <td>1919.0</td>\n",
       "      <td>301935.0</td>\n",
       "      <td>1959.0</td>\n",
       "      <td>3766.34</td>\n",
       "      <td>6037.0</td>\n",
       "    </tr>\n",
       "  </tbody>\n",
       "</table>\n",
       "</div>"
      ],
      "text/plain": [
       "         bedrooms  bathrooms    sqft  home_value  year_built  sale_tax    fips\n",
       "98009         3.0        3.0  2630.0    467280.0      1959.0   5822.39  6037.0\n",
       "1302707       4.0        2.0  1576.0    220764.0      1985.0   2801.04  6037.0\n",
       "1400834       3.0        2.0  1517.0     86868.0      1951.0   1097.60  6037.0\n",
       "1750528       3.0        2.0  1447.0    215803.0      1949.0   2992.81  6037.0\n",
       "1573330       3.0        2.0  1919.0    301935.0      1959.0   3766.34  6037.0"
      ]
     },
     "execution_count": 3,
     "metadata": {},
     "output_type": "execute_result"
    }
   ],
   "source": [
    "#take a look at the data\n",
    "train.head()"
   ]
  },
  {
   "cell_type": "code",
   "execution_count": 4,
   "id": "9badb80e",
   "metadata": {},
   "outputs": [
    {
     "name": "stdout",
     "output_type": "stream",
     "text": [
      "<class 'pandas.core.frame.DataFrame'>\n",
      "Int64Index: 1033073 entries, 98009 to 1310779\n",
      "Data columns (total 7 columns):\n",
      " #   Column      Non-Null Count    Dtype  \n",
      "---  ------      --------------    -----  \n",
      " 0   bedrooms    1033073 non-null  float64\n",
      " 1   bathrooms   1033073 non-null  float64\n",
      " 2   sqft        1033073 non-null  float64\n",
      " 3   home_value  1033073 non-null  float64\n",
      " 4   year_built  1033073 non-null  float64\n",
      " 5   sale_tax    1033073 non-null  float64\n",
      " 6   fips        1033073 non-null  float64\n",
      "dtypes: float64(7)\n",
      "memory usage: 63.1 MB\n"
     ]
    }
   ],
   "source": [
    "train.info()"
   ]
  },
  {
   "cell_type": "code",
   "execution_count": 5,
   "id": "50611afc",
   "metadata": {},
   "outputs": [],
   "source": [
    "train = train.drop(columns=['bedrooms', 'bathrooms', 'year_built', 'sale_tax', 'fips'])"
   ]
  },
  {
   "cell_type": "code",
   "execution_count": 6,
   "id": "a5ffd623",
   "metadata": {},
   "outputs": [
    {
     "data": {
      "text/html": [
       "<div>\n",
       "<style scoped>\n",
       "    .dataframe tbody tr th:only-of-type {\n",
       "        vertical-align: middle;\n",
       "    }\n",
       "\n",
       "    .dataframe tbody tr th {\n",
       "        vertical-align: top;\n",
       "    }\n",
       "\n",
       "    .dataframe thead th {\n",
       "        text-align: right;\n",
       "    }\n",
       "</style>\n",
       "<table border=\"1\" class=\"dataframe\">\n",
       "  <thead>\n",
       "    <tr style=\"text-align: right;\">\n",
       "      <th></th>\n",
       "      <th>sqft</th>\n",
       "      <th>home_value</th>\n",
       "    </tr>\n",
       "  </thead>\n",
       "  <tbody>\n",
       "    <tr>\n",
       "      <th>98009</th>\n",
       "      <td>2630.0</td>\n",
       "      <td>467280.0</td>\n",
       "    </tr>\n",
       "    <tr>\n",
       "      <th>1302707</th>\n",
       "      <td>1576.0</td>\n",
       "      <td>220764.0</td>\n",
       "    </tr>\n",
       "    <tr>\n",
       "      <th>1400834</th>\n",
       "      <td>1517.0</td>\n",
       "      <td>86868.0</td>\n",
       "    </tr>\n",
       "  </tbody>\n",
       "</table>\n",
       "</div>"
      ],
      "text/plain": [
       "           sqft  home_value\n",
       "98009    2630.0    467280.0\n",
       "1302707  1576.0    220764.0\n",
       "1400834  1517.0     86868.0"
      ]
     },
     "execution_count": 6,
     "metadata": {},
     "output_type": "execute_result"
    }
   ],
   "source": [
    "train.head(3)"
   ]
  },
  {
   "cell_type": "code",
   "execution_count": 7,
   "id": "0b2deed2",
   "metadata": {},
   "outputs": [],
   "source": [
    "MinMax = MinMaxScaler()\n",
    "train['sqft'] = MinMax.fit_transform(train[['sqft']])"
   ]
  },
  {
   "cell_type": "code",
   "execution_count": 8,
   "id": "63981216",
   "metadata": {},
   "outputs": [
    {
     "data": {
      "text/html": [
       "<div>\n",
       "<style scoped>\n",
       "    .dataframe tbody tr th:only-of-type {\n",
       "        vertical-align: middle;\n",
       "    }\n",
       "\n",
       "    .dataframe tbody tr th {\n",
       "        vertical-align: top;\n",
       "    }\n",
       "\n",
       "    .dataframe thead th {\n",
       "        text-align: right;\n",
       "    }\n",
       "</style>\n",
       "<table border=\"1\" class=\"dataframe\">\n",
       "  <thead>\n",
       "    <tr style=\"text-align: right;\">\n",
       "      <th></th>\n",
       "      <th>sqft</th>\n",
       "      <th>home_value</th>\n",
       "    </tr>\n",
       "  </thead>\n",
       "  <tbody>\n",
       "    <tr>\n",
       "      <th>98009</th>\n",
       "      <td>0.770968</td>\n",
       "      <td>467280.0</td>\n",
       "    </tr>\n",
       "    <tr>\n",
       "      <th>1302707</th>\n",
       "      <td>0.461877</td>\n",
       "      <td>220764.0</td>\n",
       "    </tr>\n",
       "    <tr>\n",
       "      <th>1400834</th>\n",
       "      <td>0.444575</td>\n",
       "      <td>86868.0</td>\n",
       "    </tr>\n",
       "  </tbody>\n",
       "</table>\n",
       "</div>"
      ],
      "text/plain": [
       "             sqft  home_value\n",
       "98009    0.770968    467280.0\n",
       "1302707  0.461877    220764.0\n",
       "1400834  0.444575     86868.0"
      ]
     },
     "execution_count": 8,
     "metadata": {},
     "output_type": "execute_result"
    }
   ],
   "source": [
    "train.head(3)"
   ]
  },
  {
   "cell_type": "code",
   "execution_count": 9,
   "id": "1d220a5b",
   "metadata": {},
   "outputs": [],
   "source": [
    "#isolate X and y train \n",
    "##using only the features that are requested for exercise #2\n",
    "X_train = train[['sqft']]\n",
    "y_train = train[['home_value']]\n",
    "\n",
    "X_validate = validate[['sqft']]\n",
    "y_validate = validate[['home_value']]\n",
    "\n",
    "X_test = test[['sqft']]\n",
    "y_test = test[['home_value']]"
   ]
  },
  {
   "cell_type": "code",
   "execution_count": 10,
   "id": "a03341d9",
   "metadata": {},
   "outputs": [
    {
     "data": {
      "text/html": [
       "<style>#sk-container-id-1 {color: black;background-color: white;}#sk-container-id-1 pre{padding: 0;}#sk-container-id-1 div.sk-toggleable {background-color: white;}#sk-container-id-1 label.sk-toggleable__label {cursor: pointer;display: block;width: 100%;margin-bottom: 0;padding: 0.3em;box-sizing: border-box;text-align: center;}#sk-container-id-1 label.sk-toggleable__label-arrow:before {content: \"▸\";float: left;margin-right: 0.25em;color: #696969;}#sk-container-id-1 label.sk-toggleable__label-arrow:hover:before {color: black;}#sk-container-id-1 div.sk-estimator:hover label.sk-toggleable__label-arrow:before {color: black;}#sk-container-id-1 div.sk-toggleable__content {max-height: 0;max-width: 0;overflow: hidden;text-align: left;background-color: #f0f8ff;}#sk-container-id-1 div.sk-toggleable__content pre {margin: 0.2em;color: black;border-radius: 0.25em;background-color: #f0f8ff;}#sk-container-id-1 input.sk-toggleable__control:checked~div.sk-toggleable__content {max-height: 200px;max-width: 100%;overflow: auto;}#sk-container-id-1 input.sk-toggleable__control:checked~label.sk-toggleable__label-arrow:before {content: \"▾\";}#sk-container-id-1 div.sk-estimator input.sk-toggleable__control:checked~label.sk-toggleable__label {background-color: #d4ebff;}#sk-container-id-1 div.sk-label input.sk-toggleable__control:checked~label.sk-toggleable__label {background-color: #d4ebff;}#sk-container-id-1 input.sk-hidden--visually {border: 0;clip: rect(1px 1px 1px 1px);clip: rect(1px, 1px, 1px, 1px);height: 1px;margin: -1px;overflow: hidden;padding: 0;position: absolute;width: 1px;}#sk-container-id-1 div.sk-estimator {font-family: monospace;background-color: #f0f8ff;border: 1px dotted black;border-radius: 0.25em;box-sizing: border-box;margin-bottom: 0.5em;}#sk-container-id-1 div.sk-estimator:hover {background-color: #d4ebff;}#sk-container-id-1 div.sk-parallel-item::after {content: \"\";width: 100%;border-bottom: 1px solid gray;flex-grow: 1;}#sk-container-id-1 div.sk-label:hover label.sk-toggleable__label {background-color: #d4ebff;}#sk-container-id-1 div.sk-serial::before {content: \"\";position: absolute;border-left: 1px solid gray;box-sizing: border-box;top: 0;bottom: 0;left: 50%;z-index: 0;}#sk-container-id-1 div.sk-serial {display: flex;flex-direction: column;align-items: center;background-color: white;padding-right: 0.2em;padding-left: 0.2em;position: relative;}#sk-container-id-1 div.sk-item {position: relative;z-index: 1;}#sk-container-id-1 div.sk-parallel {display: flex;align-items: stretch;justify-content: center;background-color: white;position: relative;}#sk-container-id-1 div.sk-item::before, #sk-container-id-1 div.sk-parallel-item::before {content: \"\";position: absolute;border-left: 1px solid gray;box-sizing: border-box;top: 0;bottom: 0;left: 50%;z-index: -1;}#sk-container-id-1 div.sk-parallel-item {display: flex;flex-direction: column;z-index: 1;position: relative;background-color: white;}#sk-container-id-1 div.sk-parallel-item:first-child::after {align-self: flex-end;width: 50%;}#sk-container-id-1 div.sk-parallel-item:last-child::after {align-self: flex-start;width: 50%;}#sk-container-id-1 div.sk-parallel-item:only-child::after {width: 0;}#sk-container-id-1 div.sk-dashed-wrapped {border: 1px dashed gray;margin: 0 0.4em 0.5em 0.4em;box-sizing: border-box;padding-bottom: 0.4em;background-color: white;}#sk-container-id-1 div.sk-label label {font-family: monospace;font-weight: bold;display: inline-block;line-height: 1.2em;}#sk-container-id-1 div.sk-label-container {text-align: center;}#sk-container-id-1 div.sk-container {/* jupyter's `normalize.less` sets `[hidden] { display: none; }` but bootstrap.min.css set `[hidden] { display: none !important; }` so we also need the `!important` here to be able to override the default hidden behavior on the sphinx rendered scikit-learn.org. See: https://github.com/scikit-learn/scikit-learn/issues/21755 */display: inline-block !important;position: relative;}#sk-container-id-1 div.sk-text-repr-fallback {display: none;}</style><div id=\"sk-container-id-1\" class=\"sk-top-container\"><div class=\"sk-text-repr-fallback\"><pre>LinearRegression()</pre><b>In a Jupyter environment, please rerun this cell to show the HTML representation or trust the notebook. <br />On GitHub, the HTML representation is unable to render, please try loading this page with nbviewer.org.</b></div><div class=\"sk-container\" hidden><div class=\"sk-item\"><div class=\"sk-estimator sk-toggleable\"><input class=\"sk-toggleable__control sk-hidden--visually\" id=\"sk-estimator-id-1\" type=\"checkbox\" checked><label for=\"sk-estimator-id-1\" class=\"sk-toggleable__label sk-toggleable__label-arrow\">LinearRegression</label><div class=\"sk-toggleable__content\"><pre>LinearRegression()</pre></div></div></div></div></div>"
      ],
      "text/plain": [
       "LinearRegression()"
      ]
     },
     "execution_count": 10,
     "metadata": {},
     "output_type": "execute_result"
    }
   ],
   "source": [
    "model = LinearRegression().fit(X_train, y_train)\n",
    "model"
   ]
  },
  {
   "cell_type": "code",
   "execution_count": 11,
   "id": "6e29be1a",
   "metadata": {},
   "outputs": [
    {
     "data": {
      "text/plain": [
       "array([[472999.47132013],\n",
       "       [316343.01783735],\n",
       "       [307573.82357218],\n",
       "       ...,\n",
       "       [244405.89878074],\n",
       "       [267146.35170566],\n",
       "       [265660.04759292]])"
      ]
     },
     "execution_count": 11,
     "metadata": {},
     "output_type": "execute_result"
    }
   ],
   "source": [
    "predictions = model.predict(X_train)\n",
    "predictions"
   ]
  },
  {
   "cell_type": "code",
   "execution_count": 12,
   "id": "5c537a31",
   "metadata": {},
   "outputs": [],
   "source": [
    "train['yhat'] = predictions"
   ]
  },
  {
   "cell_type": "code",
   "execution_count": 13,
   "id": "80d0492b",
   "metadata": {},
   "outputs": [
    {
     "data": {
      "text/html": [
       "<div>\n",
       "<style scoped>\n",
       "    .dataframe tbody tr th:only-of-type {\n",
       "        vertical-align: middle;\n",
       "    }\n",
       "\n",
       "    .dataframe tbody tr th {\n",
       "        vertical-align: top;\n",
       "    }\n",
       "\n",
       "    .dataframe thead th {\n",
       "        text-align: right;\n",
       "    }\n",
       "</style>\n",
       "<table border=\"1\" class=\"dataframe\">\n",
       "  <thead>\n",
       "    <tr style=\"text-align: right;\">\n",
       "      <th></th>\n",
       "      <th>sqft</th>\n",
       "      <th>home_value</th>\n",
       "      <th>yhat</th>\n",
       "    </tr>\n",
       "  </thead>\n",
       "  <tbody>\n",
       "    <tr>\n",
       "      <th>98009</th>\n",
       "      <td>0.770968</td>\n",
       "      <td>467280.0</td>\n",
       "      <td>472999.471320</td>\n",
       "    </tr>\n",
       "    <tr>\n",
       "      <th>1302707</th>\n",
       "      <td>0.461877</td>\n",
       "      <td>220764.0</td>\n",
       "      <td>316343.017837</td>\n",
       "    </tr>\n",
       "    <tr>\n",
       "      <th>1400834</th>\n",
       "      <td>0.444575</td>\n",
       "      <td>86868.0</td>\n",
       "      <td>307573.823572</td>\n",
       "    </tr>\n",
       "  </tbody>\n",
       "</table>\n",
       "</div>"
      ],
      "text/plain": [
       "             sqft  home_value           yhat\n",
       "98009    0.770968    467280.0  472999.471320\n",
       "1302707  0.461877    220764.0  316343.017837\n",
       "1400834  0.444575     86868.0  307573.823572"
      ]
     },
     "execution_count": 13,
     "metadata": {},
     "output_type": "execute_result"
    }
   ],
   "source": [
    "train.head(3)"
   ]
  },
  {
   "cell_type": "code",
   "execution_count": 14,
   "id": "9aa2791c",
   "metadata": {},
   "outputs": [],
   "source": [
    "train['residuals'] = train.yhat - train.home_value"
   ]
  },
  {
   "cell_type": "code",
   "execution_count": 16,
   "id": "78e703c9",
   "metadata": {},
   "outputs": [
    {
     "data": {
      "image/png": "[encoded data removed]",
      "text/plain": [
       "<Figure size 640x480 with 1 Axes>"
      ]
     },
     "metadata": {},
     "output_type": "display_data"
    }
   ],
   "source": [
    "sns.scatterplot(data=train , x='home_value', y='residuals')\n",
    "\n",
    "plt.xlabel('Actual Home Value')\n",
    "plt.ylabel('Residual Value')\n",
    "plt.title('Residual vs Actual Value')\n",
    "plt.show()"
   ]
  },
  {
   "cell_type": "code",
   "execution_count": 18,
   "id": "a6eee0ba",
   "metadata": {},
   "outputs": [
    {
     "data": {
      "text/plain": [
       "3.3497004136503416e+16"
      ]
     },
     "execution_count": 18,
     "metadata": {},
     "output_type": "execute_result"
    }
   ],
   "source": [
    "sse = (train.residuals ** 2).sum()\n",
    "sse"
   ]
  },
  {
   "cell_type": "code",
   "execution_count": 19,
   "id": "f850944b",
   "metadata": {},
   "outputs": [
    {
     "data": {
      "text/plain": [
       "7275587158661324.0"
      ]
     },
     "execution_count": 19,
     "metadata": {},
     "output_type": "execute_result"
    }
   ],
   "source": [
    "ess = ((train.yhat - train.home_value.mean())**2).sum()\n",
    "ess"
   ]
  },
  {
   "cell_type": "code",
   "execution_count": 20,
   "id": "23d57073",
   "metadata": {},
   "outputs": [
    {
     "data": {
      "text/plain": [
       "4.077259129516474e+16"
      ]
     },
     "execution_count": 20,
     "metadata": {},
     "output_type": "execute_result"
    }
   ],
   "source": [
    "tss = ess +sse\n",
    "tss"
   ]
  },
  {
   "cell_type": "code",
   "execution_count": 21,
   "id": "589eafac",
   "metadata": {},
   "outputs": [
    {
     "data": {
      "text/plain": [
       "32424624529.441208"
      ]
     },
     "execution_count": 21,
     "metadata": {},
     "output_type": "execute_result"
    }
   ],
   "source": [
    "mse = mean_squared_error(train.home_value, train.yhat)\n",
    "mse"
   ]
  },
  {
   "cell_type": "code",
   "execution_count": 23,
   "id": "82d9dbd1",
   "metadata": {},
   "outputs": [
    {
     "data": {
      "text/plain": [
       "32424624529.441208"
      ]
     },
     "execution_count": 23,
     "metadata": {},
     "output_type": "execute_result"
    }
   ],
   "source": [
    "sse/len(train.yhat)"
   ]
  },
  {
   "cell_type": "code",
   "execution_count": 25,
   "id": "9fe9fba8",
   "metadata": {},
   "outputs": [
    {
     "data": {
      "text/plain": [
       "180068.38847904763"
      ]
     },
     "execution_count": 25,
     "metadata": {},
     "output_type": "execute_result"
    }
   ],
   "source": [
    "rmse = mse ** .5\n",
    "rmse"
   ]
  },
  {
   "cell_type": "code",
   "execution_count": 28,
   "id": "eea33528",
   "metadata": {},
   "outputs": [
    {
     "data": {
      "text/plain": [
       "180068.38847904763"
      ]
     },
     "execution_count": 28,
     "metadata": {},
     "output_type": "execute_result"
    }
   ],
   "source": [
    "math.sqrt(mse)"
   ]
  },
  {
   "cell_type": "code",
   "execution_count": 29,
   "id": "27683401",
   "metadata": {},
   "outputs": [],
   "source": [
    "train['baseline'] = train.home_value.mean()"
   ]
  },
  {
   "cell_type": "code",
   "execution_count": 30,
   "id": "baca3f31",
   "metadata": {},
   "outputs": [
    {
     "data": {
      "text/plain": [
       "39467289625.38667"
      ]
     },
     "execution_count": 30,
     "metadata": {},
     "output_type": "execute_result"
    }
   ],
   "source": [
    "mse_baseline = mean_squared_error(train.home_value, train.baseline)\n",
    "mse_baseline"
   ]
  },
  {
   "cell_type": "code",
   "execution_count": 31,
   "id": "50f067e7",
   "metadata": {},
   "outputs": [],
   "source": [
    "train['mse_baseline'] = mse_baseline"
   ]
  },
  {
   "cell_type": "code",
   "execution_count": 32,
   "id": "891fe7a3",
   "metadata": {},
   "outputs": [],
   "source": [
    "sse_baseline = mse_baseline * len(train)\n",
    "sse_baseline\n",
    "train['sse_baseline'] = sse_baseline"
   ]
  },
  {
   "cell_type": "code",
   "execution_count": 33,
   "id": "cc7362a8",
   "metadata": {},
   "outputs": [],
   "source": [
    "rmse_baseline = mse_baseline **.5\n",
    "rmse_baseline\n",
    "train['rmse_baseline'] = rmse_baseline"
   ]
  },
  {
   "cell_type": "code",
   "execution_count": 34,
   "id": "ebaecbec",
   "metadata": {},
   "outputs": [
    {
     "data": {
      "text/html": [
       "<div>\n",
       "<style scoped>\n",
       "    .dataframe tbody tr th:only-of-type {\n",
       "        vertical-align: middle;\n",
       "    }\n",
       "\n",
       "    .dataframe tbody tr th {\n",
       "        vertical-align: top;\n",
       "    }\n",
       "\n",
       "    .dataframe thead th {\n",
       "        text-align: right;\n",
       "    }\n",
       "</style>\n",
       "<table border=\"1\" class=\"dataframe\">\n",
       "  <thead>\n",
       "    <tr style=\"text-align: right;\">\n",
       "      <th></th>\n",
       "      <th>sqft</th>\n",
       "      <th>home_value</th>\n",
       "      <th>yhat</th>\n",
       "      <th>residuals</th>\n",
       "      <th>baseline</th>\n",
       "      <th>mse_baseline</th>\n",
       "      <th>sse_baseline</th>\n",
       "      <th>rmse_baseline</th>\n",
       "    </tr>\n",
       "  </thead>\n",
       "  <tbody>\n",
       "    <tr>\n",
       "      <th>98009</th>\n",
       "      <td>0.770968</td>\n",
       "      <td>467280.0</td>\n",
       "      <td>472999.471320</td>\n",
       "      <td>5719.471320</td>\n",
       "      <td>328045.322681</td>\n",
       "      <td>3.946729e+10</td>\n",
       "      <td>4.077259e+16</td>\n",
       "      <td>198663.760222</td>\n",
       "    </tr>\n",
       "    <tr>\n",
       "      <th>1302707</th>\n",
       "      <td>0.461877</td>\n",
       "      <td>220764.0</td>\n",
       "      <td>316343.017837</td>\n",
       "      <td>95579.017837</td>\n",
       "      <td>328045.322681</td>\n",
       "      <td>3.946729e+10</td>\n",
       "      <td>4.077259e+16</td>\n",
       "      <td>198663.760222</td>\n",
       "    </tr>\n",
       "    <tr>\n",
       "      <th>1400834</th>\n",
       "      <td>0.444575</td>\n",
       "      <td>86868.0</td>\n",
       "      <td>307573.823572</td>\n",
       "      <td>220705.823572</td>\n",
       "      <td>328045.322681</td>\n",
       "      <td>3.946729e+10</td>\n",
       "      <td>4.077259e+16</td>\n",
       "      <td>198663.760222</td>\n",
       "    </tr>\n",
       "  </tbody>\n",
       "</table>\n",
       "</div>"
      ],
      "text/plain": [
       "             sqft  home_value           yhat      residuals       baseline  \\\n",
       "98009    0.770968    467280.0  472999.471320    5719.471320  328045.322681   \n",
       "1302707  0.461877    220764.0  316343.017837   95579.017837  328045.322681   \n",
       "1400834  0.444575     86868.0  307573.823572  220705.823572  328045.322681   \n",
       "\n",
       "         mse_baseline  sse_baseline  rmse_baseline  \n",
       "98009    3.946729e+10  4.077259e+16  198663.760222  \n",
       "1302707  3.946729e+10  4.077259e+16  198663.760222  \n",
       "1400834  3.946729e+10  4.077259e+16  198663.760222  "
      ]
     },
     "execution_count": 34,
     "metadata": {},
     "output_type": "execute_result"
    }
   ],
   "source": [
    "train.head(3)"
   ]
  },
  {
   "cell_type": "code",
   "execution_count": 35,
   "id": "56fa22a6",
   "metadata": {},
   "outputs": [
    {
     "name": "stdout",
     "output_type": "stream",
     "text": [
      "My OSL model performs better than baseline\n"
     ]
    }
   ],
   "source": [
    "if sse < sse_baseline:\n",
    "    print('My OSL model performs better than baseline')\n",
    "else:\n",
    "    print('My OSL model performs worse than baseline. :( ) ')"
   ]
  },
  {
   "cell_type": "code",
   "execution_count": 36,
   "id": "18a42961",
   "metadata": {},
   "outputs": [
    {
     "data": {
      "text/plain": [
       "0.1784430895252945"
      ]
     },
     "execution_count": 36,
     "metadata": {},
     "output_type": "execute_result"
    }
   ],
   "source": [
    "r2 = ess/ tss\n",
    "r2"
   ]
  },
  {
   "cell_type": "code",
   "execution_count": 37,
   "id": "df29808d",
   "metadata": {},
   "outputs": [
    {
     "data": {
      "text/plain": [
       "0.17844308952534182"
      ]
     },
     "execution_count": 37,
     "metadata": {},
     "output_type": "execute_result"
    }
   ],
   "source": [
    "r2_score(train.home_value, train.yhat)"
   ]
  },
  {
   "cell_type": "code",
   "execution_count": 38,
   "id": "b8bee107",
   "metadata": {},
   "outputs": [
    {
     "data": {
      "text/plain": [
       "0.1784430895253417"
      ]
     },
     "execution_count": 38,
     "metadata": {},
     "output_type": "execute_result"
    }
   ],
   "source": [
    "evs= explained_variance_score(train.home_value, train.yhat)\n",
    "evs"
   ]
  },
  {
   "cell_type": "code",
   "execution_count": 40,
   "id": "7fec50c6",
   "metadata": {},
   "outputs": [
    {
     "name": "stdout",
     "output_type": "stream",
     "text": [
      "The model rmse performs better than rmse_baseline\n"
     ]
    }
   ],
   "source": [
    "if rmse < rmse_baseline:\n",
    "    print(f'The model rmse performs better than rmse_baseline')\n",
    "else:\n",
    "    print(f'The model rmse performs worse than the rmse_baseline')"
   ]
  },
  {
   "cell_type": "code",
   "execution_count": 41,
   "id": "95d0279a",
   "metadata": {},
   "outputs": [],
   "source": [
    "def plot_residuals(y, yhat):\n",
    "    plt.scatter(y, (yhat - y))\n",
    "    plt.xlabel('yhat')\n",
    "    plt.ylabel('residuals')\n",
    "    plt.show()"
   ]
  },
  {
   "cell_type": "code",
   "execution_count": 43,
   "id": "8c7e0d48",
   "metadata": {},
   "outputs": [
    {
     "data": {
      "image/png": "[encoded data removed]",
      "text/plain": [
       "<Figure size 640x480 with 1 Axes>"
      ]
     },
     "metadata": {},
     "output_type": "display_data"
    }
   ],
   "source": [
    "plot_residuals(train.home_value, train.yhat)"
   ]
  },
  {
   "cell_type": "code",
   "execution_count": 45,
   "id": "8ce8e17b",
   "metadata": {},
   "outputs": [],
   "source": [
    "#We can make this look even better\n",
    "def regression_errors(y, yhat):\n",
    "    '''\n",
    "    This function takes in actual value and predicted value \n",
    "    then outputs: the sse, ess, tss, mse, and rmse\n",
    "    '''\n",
    "    MSE = mean_squared_error(y, yhat)\n",
    "    SSE = MSE * len(y)\n",
    "    RMSE = math.sqrt(MSE)\n",
    "    ESS = ((yhat - y.mean())**2).sum()\n",
    "    TSS = ESS + SSE\n",
    "    \n",
    "    return MSE, SSE, RMSE, ESS, TSS"
   ]
  },
  {
   "cell_type": "code",
   "execution_count": 46,
   "id": "d799c85f",
   "metadata": {},
   "outputs": [
    {
     "data": {
      "text/plain": [
       "(32424624529.441208,\n",
       " 3.3497004136503416e+16,\n",
       " 180068.38847904763,\n",
       " 7275587158661324.0,\n",
       " 4.077259129516474e+16)"
      ]
     },
     "execution_count": 46,
     "metadata": {},
     "output_type": "execute_result"
    }
   ],
   "source": [
    "regression_errors(train.home_value, train.yhat)"
   ]
  },
  {
   "cell_type": "code",
   "execution_count": 49,
   "id": "96d0ad1c",
   "metadata": {},
   "outputs": [],
   "source": [
    "def baseline_mean_errors(y):\n",
    "    baseline = np.repeat(y.mean(), len(y))\n",
    "    \n",
    "    MSE = mean_squared_error(y, baseline)\n",
    "    SSE = MSE * len(y)\n",
    "    RMSE = MSE**.5\n",
    "    \n",
    "    return MSE, SSE, RMSE"
   ]
  },
  {
   "cell_type": "code",
   "execution_count": 51,
   "id": "adba7d19",
   "metadata": {},
   "outputs": [
    {
     "data": {
      "text/plain": [
       "(39467289625.38667, 4.077259129516709e+16, 198663.76022160327)"
      ]
     },
     "execution_count": 51,
     "metadata": {},
     "output_type": "execute_result"
    }
   ],
   "source": [
    "baseline_mean_errors(train.home_value)"
   ]
  },
  {
   "cell_type": "code",
   "execution_count": 53,
   "id": "f3ea4d5a",
   "metadata": {},
   "outputs": [],
   "source": [
    "def better_than_baseline(y, yhat):\n",
    "    '''\n",
    "    This function takes in the target and the prediction\n",
    "    then returns a print statement \n",
    "    to inform us if the model outperforms the baseline\n",
    "    '''\n",
    "    SSE, ESS, TSS, MSE, RMSE = regression_errors(y, yhat)\n",
    "    \n",
    "    SSE_baseline, MSE_baseline, RMSE_baseline = baseline_mean_errors(y)\n",
    "    \n",
    "    if SSE < SSE_baseline:\n",
    "        print('My OSL model performs better than baseline')\n",
    "    else:\n",
    "        print('My OSL model performs worse than baseline. :( )')"
   ]
  },
  {
   "cell_type": "code",
   "execution_count": 54,
   "id": "2996244e",
   "metadata": {},
   "outputs": [
    {
     "name": "stdout",
     "output_type": "stream",
     "text": [
      "My OSL model performs better than baseline\n"
     ]
    }
   ],
   "source": [
    "better_than_baseline(train.home_value, train.yhat)"
   ]
  },
  {
   "cell_type": "code",
   "execution_count": 55,
   "id": "7b6271e7",
   "metadata": {},
   "outputs": [],
   "source": [
    "def regression_errors_print(y, yhat):\n",
    "    '''\n",
    "    This function takes in actual value and predicted value \n",
    "    then outputs: the sse, ess, tss, mse, and rmse\n",
    "    '''\n",
    "    MSE = mean_squared_error(y, yhat)\n",
    "    SSE = MSE * len(y)\n",
    "    RMSE = math.sqrt(MSE)\n",
    "    ESS = ((yhat - y.mean())**2).sum()\n",
    "    TSS = ESS + SSE\n",
    "        \n",
    "    print(f''' \n",
    "        SSE: {SSE: .4f}\n",
    "        ESS: {ESS: .4f}\n",
    "        TSS: {TSS: .4f}\n",
    "        MSE: {MSE: .4f}\n",
    "        RMSE: {RMSE: .4f}\n",
    "        ''')"
   ]
  },
  {
   "cell_type": "code",
   "execution_count": 56,
   "id": "3f453bab",
   "metadata": {},
   "outputs": [
    {
     "name": "stdout",
     "output_type": "stream",
     "text": [
      " \n",
      "        SSE:  33497004136503416.0000\n",
      "        ESS:  7275587158661324.0000\n",
      "        TSS:  40772591295164736.0000\n",
      "        MSE:  32424624529.4412\n",
      "        RMSE:  180068.3885\n",
      "        \n"
     ]
    }
   ],
   "source": [
    "regression_errors_print(train.home_value, train.yhat)"
   ]
  }
 ],
 "metadata": {
  "kernelspec": {
   "display_name": "Python 3 (ipykernel)",
   "language": "python",
   "name": "python3"
  },
  "language_info": {
   "codemirror_mode": {
    "name": "ipython",
    "version": 3
   },
   "file_extension": ".py",
   "mimetype": "text/x-python",
   "name": "python",
   "nbconvert_exporter": "python",
   "pygments_lexer": "ipython3",
   "version": "3.9.13"
  }
 },
 "nbformat": 4,
 "nbformat_minor": 5
}
