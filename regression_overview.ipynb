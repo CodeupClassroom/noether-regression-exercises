{
 "cells": [
  {
   "cell_type": "markdown",
   "id": "1df8466f",
   "metadata": {},
   "source": [
    "# Regression"
   ]
  },
  {
   "cell_type": "markdown",
   "id": "8f338254",
   "metadata": {},
   "source": [
    "<hr style=\"border:2px solid gray\">"
   ]
  },
  {
   "cell_type": "markdown",
   "id": "a51176c1",
   "metadata": {},
   "source": [
    "## What is regression?\n",
    "- Supervised machine learning techique\n",
    "    - Feed features and answers into it --> get model/algorithm out\n",
    "- Target is a continuous variable\n",
    "- New evaluation metrics such as RMSE (root mean squared error)\n",
    "- Same data structure: one column = one feature / one row = one observation\n",
    "<br>\n",
    "\n",
    "<b>Use case for regression</b>:\n",
    "- how much something costs\n",
    "- stock price prediction"
   ]
  },
  {
   "cell_type": "markdown",
   "id": "fd458863",
   "metadata": {},
   "source": [
    "### Simple linear Regression:\n",
    "- one feature, one target\n",
    "- estimates the relationship between one independent variable and one dependent variable using a straight line\n",
    "\n",
    "### Multiple linear Regression:\n",
    "- multiple features, one target\n",
    "- analyzes the relationship between a single dependent variable and several independent variables\n",
    "\n",
    "### Polynomial Regression:\n",
    "- multiple features, one target\n",
    "- a subsect of multiple linear regression\n",
    "- estimates the relationship as an nth degree polynomial\n",
    "- sensitive to outliers so the presence of one or two outliers can also badly affect the performance"
   ]
  },
  {
   "cell_type": "markdown",
   "id": "78e19ac4",
   "metadata": {},
   "source": [
    "<hr style=\"border:1px solid black\">\n",
    "<hr style=\"border:1px solid black\">"
   ]
  },
  {
   "cell_type": "markdown",
   "id": "ccf0fdc8",
   "metadata": {},
   "source": [
    "# Data Science Pipeline"
   ]
  },
  {
   "cell_type": "markdown",
   "id": "afdb5338",
   "metadata": {},
   "source": [
    "Plan --> Acquire --> Prepare--> Explore --> Model --> Deliver"
   ]
  },
  {
   "cell_type": "markdown",
   "id": "a6f26a2b",
   "metadata": {},
   "source": [
    "### Acquire:\n",
    "- SQL\n",
    "    - write queries\n",
    "    - using pd.read_sql\n",
    "    some functions to generate server url\n",
    "    \n",
    "    <br>\n",
    "    \n",
    "- Get to know the data\n",
    "    - .info, .describe\n",
    "    - .head, .shape\n",
    "    - Histograms, countplots"
   ]
  },
  {
   "cell_type": "markdown",
   "id": "683e6b6e",
   "metadata": {},
   "source": [
    "<hr style=\"border:1px solid black\">"
   ]
  },
  {
   "cell_type": "markdown",
   "id": "60585e95",
   "metadata": {},
   "source": [
    "### Prepare:\n",
    "- Null values\n",
    "    - investigate nulls\n",
    "        - .isna, .value_counts\n",
    "    - determine meaning\n",
    "    - take action (impute, drop)\n",
    "        - .dropna\n",
    "       \n",
    "       <br>\n",
    "        \n",
    "- Clean data\n",
    "    - encode categorical columns\n",
    "        - pd.get_dummies\n",
    "    - change datatypes\n",
    "        - .astype\n",
    "    - Tidy data\n",
    "        - one observation in each row\n",
    "        - one feature in each column\n",
    "              \n",
    "       <br>\n",
    "    \n",
    "- Handle outliers\n",
    "    - drop them\n",
    "    - cap them\n",
    "    \n",
    "<br>\n",
    "\n",
    "- Split your data\n",
    "    - train_test_split\n",
    "    - return train, validate, test subsets of original data"
   ]
  },
  {
   "cell_type": "markdown",
   "id": "3268f659",
   "metadata": {},
   "source": [
    "<hr style=\"border:1px solid black\">"
   ]
  },
  {
   "cell_type": "markdown",
   "id": "f1fec2fd",
   "metadata": {},
   "source": [
    "### Explore:\n",
    "- Explore on original data (not on dummy columns)\n",
    "- Ask questions of your data: \"is x causing y?\"\n",
    "- Build visualizations\n",
    "- Use statistics to determine significance"
   ]
  },
  {
   "cell_type": "markdown",
   "id": "332c199d",
   "metadata": {},
   "source": [
    "<div class=\"alert alert-block alert-danger\">\n",
    " <div class=\"row vertical-align\">\n",
    "            <i class=\"fa fa-exclamation-triangle fa-2x\"></i>\n",
    "<b>Important:</b> \n",
    "    <br>\n",
    "1. Do not explore data that has already been scaled. Scale your data <u>after</u> exploration and <u>before</u> modeling.\n",
    "     \n",
    "<br>\n",
    "2. Scale your data after you split your data to avoid data leakage.\n",
    "</div>"
   ]
  },
  {
   "cell_type": "markdown",
   "id": "702367ac",
   "metadata": {},
   "source": [
    "<hr style=\"border:1px solid black\">"
   ]
  },
  {
   "cell_type": "markdown",
   "id": "ebae7ff0",
   "metadata": {},
   "source": [
    "### Model:"
   ]
  },
  {
   "cell_type": "markdown",
   "id": "9b1c7492",
   "metadata": {},
   "source": [
    "<div class=\"alert alert-block alert-info\">\n",
    "<b>Note:</b> \n",
    "    \n",
    "<br>      \n",
    "Scaling is performed during data preparation to handle highly varying magnitudes or values or units. If feature scaling is not done, then a machine learning algorithm tends to weigh greater values, higher and consider smaller values as the lower values, regardless of the unit of the values.\n",
    "    </div>"
   ]
  },
  {
   "cell_type": "markdown",
   "id": "7eba6726",
   "metadata": {},
   "source": [
    "- Scale the data\n",
    "    - MinMaxScaler: all numbers now fall between 0 and 1\n",
    "    - StandardScaler: all numbers are the # of standard deviation from the mean\n",
    "\n",
    "<br>   \n",
    "\n",
    "- Feature engineering\n",
    "    - encode patterns\n",
    "    - combine 2 or more fields (especially if they are highly correlated)\n",
    "    \n",
    "<br>   \n",
    "\n",
    "- Feature selection\n",
    "    - RFE (recursive feature elimination)\n",
    "        - runs through a model of features and eliminates the least important feature (repeats)\n",
    "    - Select KBest\n",
    "        - checks for correlation between features and the target variable\n",
    "        - you can define the number of features you want\n",
    "    - Curse of Dimensionality: \n",
    "        - the idea that making new features can be good, but don't go overboard\n",
    "        - (ex): turning 10 features into 1000 features makes it difficult for your models to determine feature significance\n",
    "\n",
    "<br>\n",
    "\n",
    "- Actual modeling\n",
    "    - fit, predict, evaluation (RMSE)"
   ]
  }
 ],
 "metadata": {
  "kernelspec": {
   "display_name": "Python 3 (ipykernel)",
   "language": "python",
   "name": "python3"
  },
  "language_info": {
   "codemirror_mode": {
    "name": "ipython",
    "version": 3
   },
   "file_extension": ".py",
   "mimetype": "text/x-python",
   "name": "python",
   "nbconvert_exporter": "python",
   "pygments_lexer": "ipython3",
   "version": "3.9.13"
  }
 },
 "nbformat": 4,
 "nbformat_minor": 5
}
